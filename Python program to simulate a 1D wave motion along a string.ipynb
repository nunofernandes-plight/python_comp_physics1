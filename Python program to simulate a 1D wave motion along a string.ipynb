{
 "cells": [
  {
   "cell_type": "markdown",
   "id": "44da2b57",
   "metadata": {},
   "source": [
    "# Simulating 1D Wave Motion"
   ]
  },
  {
   "cell_type": "markdown",
   "id": "f5e3d969",
   "metadata": {},
   "source": [
    "## Understanding the Physics:\n",
    "\n",
    "### A 1D wave equation can be represented as:"
   ]
  },
  {
   "cell_type": "markdown",
   "id": "7a3d2ade",
   "metadata": {},
   "source": [
    "1D Wave Equation as: ∂²u/∂t² = c² ∂²u/∂x²\n",
    "\n",
    "where:\n",
    "\n",
    "  . u(x,t) is the displacement of the string at position x and time t\n",
    "  . c is the wave speed\n",
    "  .  Numerical Implementation:  Finite Difference Method\n",
    "\n",
    "We can approximate the second derivatives using finite difference approximations:\n",
    "\n",
    "\n"
   ]
  },
  {
   "cell_type": "markdown",
   "id": "25b5dbb6",
   "metadata": {},
   "source": [
    "∂²u/∂t² ≈ (u(x, t+Δt) - 2u(x, t) + u(x, t-Δt)) / Δt²\n",
    "\n",
    "∂²u/∂x² ≈ (u(x+Δx, t) - 2u(x, t) + u(x-Δx, t)) / Δx²"
   ]
  },
  {
   "cell_type": "markdown",
   "id": "8aad0c28",
   "metadata": {},
   "source": [
    "Substituting these into the wave equation and rearranging, we get the update rule:\n",
    "\n"
   ]
  },
  {
   "cell_type": "markdown",
   "id": "c12be8a4",
   "metadata": {},
   "source": [
    "u(x, t+Δt) = 2u(x, t) - u(x, t-Δt) + c²Δt²/Δx² * (u(x+Δx, t) - 2u(x, t) + u(x-Δx, t))\n"
   ]
  },
  {
   "cell_type": "markdown",
   "id": "b1d0b255",
   "metadata": {},
   "source": [
    "## Python Implementation:\n",
    "\n"
   ]
  },
  {
   "cell_type": "code",
   "execution_count": null,
   "id": "51b69fee",
   "metadata": {},
   "outputs": [],
   "source": [
    "import numpy as np\n",
    "import matplotlib.pyplot as plt\n",
    "import matplotlib.animation as animation\n",
    "\n",
    "def wave_equation(u, c, dx, dt):\n",
    "    \"\"\"\n",
    "    Updates the wave displacement using the finite difference method.\n",
    "\n",
    "    Args:\n",
    "        u: The current wave displacement.\n",
    "        c: Wave speed.\n",
    "        dx: Spatial step size.\n",
    "        dt: Temporal step size.\n",
    "\n",
    "    Returns:\n",
    "        The updated wave displacement.\n",
    "    \"\"\"\n",
    "\n",
    "    u_new = np.zeros_like(u)\n",
    "    for i in range(1, len(u) - 1):\n",
    "        u_new[i] = 2 * u[i] - u_old[i] + (c * dt / dx)**2 * (u[i+1] - 2*u[i] + u[i-1])\n",
    "    return u_new\n",
    "\n",
    "# Simulation parameters\n",
    "L = 1.0  # Length of the string\n",
    "N = 100  # Number of spatial points\n",
    "c = 1.0  # Wave speed\n",
    "dt = 0.01  # Time step\n",
    "dx = L / (N - 1)  # Spatial step\n",
    "\n",
    "# Initial conditions\n",
    "u = np.zeros(N)\n",
    "u[N//2] = 1  # Initial pulse\n",
    "\n",
    "# Simulation loop\n",
    "u_old = u.copy()\n",
    "fig, ax = plt.subplots()\n",
    "line, = ax.plot(np.linspace(0, L, N), u)\n",
    "ax.set_ylim(-1.5, 1.5)\n",
    "ax.set_xlim(0, L)\n",
    "\n",
    "def animate(i):\n",
    "    global u, u_old\n",
    "    u = wave_equation(u, c, dx, dt)\n",
    "    line.set_ydata(u)\n",
    "    u_old = u.copy()\n",
    "    return line,\n",
    "\n",
    "ani = animation.FuncAnimation(fig, animate, frames=200, interval=10, blit=True)\n",
    "plt.show()"
   ]
  },
  {
   "cell_type": "markdown",
   "id": "5e6ac642",
   "metadata": {},
   "source": [
    "## Explanation:\n",
    "\n"
   ]
  },
  {
   "cell_type": "markdown",
   "id": "dd50d30d",
   "metadata": {},
   "source": [
    "## 1. Initialization:\n",
    "\n",
    "    . Define the simulation parameters: L, N, c, dt, and dx.\n",
    "    . Set up the initial wave displacement u."
   ]
  },
  {
   "cell_type": "markdown",
   "id": "d5b808bc",
   "metadata": {},
   "source": [
    "## 2. Finite Difference Method\n",
    "\n",
    "    . Implement the wave_equation function to update the wave displacement using the finite difference formula."
   ]
  },
  {
   "cell_type": "markdown",
   "id": "f839134c",
   "metadata": {},
   "source": [
    "## 3. Visialization \n",
    "\n",
    "    . Use matplotlib.pyplot and matplotlib.animation to create an animation of the wave propagation."
   ]
  },
  {
   "cell_type": "markdown",
   "id": "42f6c78b",
   "metadata": {},
   "source": [
    "## Key Points:\n",
    "\n",
    "     . Stability Condition: The simulation is stable if c * dt / dx <= 1. This condition ensures that the numerical solution doesn't diverge.\n",
    "     \n",
    "     . Boundary Conditions: In this example, we've used fixed boundary conditions (zero displacement at the ends), but other boundary conditions like periodic or open boundary conditions can be implemented.\n",
    "     \n",
    "     . Initial Conditions: The initial wave shape can be any arbitrary function.\n"
   ]
  },
  {
   "cell_type": "markdown",
   "id": "b9b1256f",
   "metadata": {},
   "source": [
    "By running this code, you'll visualize the propagation of a wave along a 1D string. You can experiment with different initial conditions, wave speeds, and simulation parameters to observe various wave phenomena."
   ]
  },
  {
   "cell_type": "code",
   "execution_count": null,
   "id": "e4e84746",
   "metadata": {},
   "outputs": [],
   "source": []
  }
 ],
 "metadata": {
  "celltoolbar": "Edit Metadata",
  "kernelspec": {
   "display_name": "Python 3 (ipykernel)",
   "language": "python",
   "name": "python3"
  },
  "language_info": {
   "codemirror_mode": {
    "name": "ipython",
    "version": 3
   },
   "file_extension": ".py",
   "mimetype": "text/x-python",
   "name": "python",
   "nbconvert_exporter": "python",
   "pygments_lexer": "ipython3",
   "version": "3.9.7"
  }
 },
 "nbformat": 4,
 "nbformat_minor": 5
}
